{
  "nbformat": 4,
  "nbformat_minor": 0,
  "metadata": {
    "colab": {
      "provenance": [],
      "collapsed_sections": [],
      "authorship_tag": "ABX9TyNcFH+rplXsWchuBUQ1Lfeg",
      "include_colab_link": true
    },
    "kernelspec": {
      "name": "python3",
      "display_name": "Python 3"
    },
    "language_info": {
      "name": "python"
    }
  },
  "cells": [
    {
      "cell_type": "markdown",
      "metadata": {
        "id": "view-in-github",
        "colab_type": "text"
      },
      "source": [
        "<a href=\"https://colab.research.google.com/github/ulises1229/CostDistance_IDW/blob/master/OpenMP/generateBaU_v_w.ipynb\" target=\"_parent\"><img src=\"https://colab.research.google.com/assets/colab-badge.svg\" alt=\"Open In Colab\"/></a>"
      ]
    },
    {
      "cell_type": "code",
      "execution_count": 14,
      "metadata": {
        "id": "uLBWtzfn3BPO"
      },
      "outputs": [],
      "source": [
        "import pandas as pd\n",
        "\n",
        "class ImportDemmand():\n",
        "\n",
        "    \n",
        "    def convertDemmand(self, name):\n",
        "        demmand = pd.read_csv(name, sep=\",\")\n",
        "        \n",
        "        # Filer walking registers\n",
        "        walking = demmand.filter(regex=rf\"ID|fw_w\")\n",
        "        walking.to_csv(name.replace(\".csv\", \"_walking.csv\"))\n",
        "\n",
        "        #Filter vehicle registers\n",
        "        vehicle = demmand.filter(regex=rf\"ID|fw_v|fw_ch\")\n",
        "        \n",
        "\n",
        "\n",
        "def main():\n",
        "    # Name of demmand file \n",
        "    name = \"BaU_fwch.csv\"\n",
        "    objImp = ImportDemmand()\n",
        "    objImp.convertDemmand(name)\n",
        "\n",
        "if __name__ == \"__main__\":\n",
        "    main()"
      ]
    }
  ]
}